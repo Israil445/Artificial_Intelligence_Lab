{
 "cells": [
  {
   "cell_type": "code",
   "execution_count": 1,
   "metadata": {},
   "outputs": [],
   "source": [
    "import heapq #min-heap"
   ]
  },
  {
   "cell_type": "code",
   "execution_count": 2,
   "metadata": {},
   "outputs": [],
   "source": [
    "#Goal state\n",
    "goal_state = (1,2,3,4,5,6,7,8,0)\n",
    "start_state = (8,1,3,4,0,2,7,6,5)"
   ]
  },
  {
   "cell_type": "code",
   "execution_count": 3,
   "metadata": {},
   "outputs": [],
   "source": [
    "#helper function to calculate heuristic value\n",
    "def misplaced_tiles(state):\n",
    "    misplaced_count = 0\n",
    "    for i in range(9):\n",
    "        if state[i] != 0 and state[i] != goal_state[i]:\n",
    "            misplaced_count += 1\n",
    "    \n",
    "    return misplaced_count\n"
   ]
  },
  {
   "cell_type": "code",
   "execution_count": 19,
   "metadata": {},
   "outputs": [],
   "source": [
    "def get_neighbors(state):\n",
    "    neighbors = []\n",
    "    zero_index = state.index(0)\n",
    "    row, col = divmod(zero_index, 3) \n",
    "    \n",
    "    # Possible moves (up, down, left, right)\n",
    "    moves = [(-1, 0), (1, 0), (0, -1), (0, 1)]\n",
    "    \n",
    "    for dr, dc in moves:\n",
    "        new_row, new_col = row + dr, col + dc\n",
    "        if 0 <= new_row < 3 and 0 <= new_col < 3:\n",
    "            new_index = new_row * 3 + new_col\n",
    "            new_state = list(state)\n",
    "            new_state[zero_index], new_state[new_index] = new_state[new_index], new_state[zero_index]\n",
    "            neighbors.append(tuple(new_state))\n",
    "    \n",
    "    return neighbors"
   ]
  },
  {
   "cell_type": "code",
   "execution_count": 20,
   "metadata": {},
   "outputs": [],
   "source": [
    "def a_star(start_state):\n",
    "    open_list = [(misplaced_tiles(start_state), 0, start_state, [])]\n",
    "    closed_list = set()\n",
    "\n",
    "    while open_list:\n",
    "        h, g, current_state, path = heapq.heappop(open_list)\n",
    "    \n",
    "        if current_state == goal_state:\n",
    "            return path + [current_state]\n",
    "        \n",
    "        if current_state not in closed_list:\n",
    "            closed_list.add(current_state)\n",
    "            \n",
    "            for neighbor in get_neighbors(current_state):\n",
    "                if neighbor not in closed_list:\n",
    "                    heapq.heappush(open_list, (g + 1 + misplaced_tiles(neighbor), g + 1, neighbor, path + [current_state]))\n",
    "\n",
    "    return None"
   ]
  },
  {
   "cell_type": "code",
   "execution_count": 6,
   "metadata": {},
   "outputs": [],
   "source": [
    "# Function to display the state as a 3x3 grid\n",
    "def display_state(state):\n",
    "    for i in range(0, 9, 3):\n",
    "        print(state[i:i+3])"
   ]
  },
  {
   "cell_type": "code",
   "execution_count": 21,
   "metadata": {},
   "outputs": [
    {
     "name": "stdout",
     "output_type": "stream",
     "text": [
      "Solution found!\n",
      "(8, 1, 3)\n",
      "(4, 0, 2)\n",
      "(7, 6, 5)\n",
      "\n",
      "(8, 1, 3)\n",
      "(4, 2, 0)\n",
      "(7, 6, 5)\n",
      "\n",
      "(8, 1, 3)\n",
      "(4, 2, 5)\n",
      "(7, 6, 0)\n",
      "\n",
      "(8, 1, 3)\n",
      "(4, 2, 5)\n",
      "(7, 0, 6)\n",
      "\n",
      "(8, 1, 3)\n",
      "(4, 2, 5)\n",
      "(0, 7, 6)\n",
      "\n",
      "(8, 1, 3)\n",
      "(0, 2, 5)\n",
      "(4, 7, 6)\n",
      "\n",
      "(0, 1, 3)\n",
      "(8, 2, 5)\n",
      "(4, 7, 6)\n",
      "\n",
      "(1, 0, 3)\n",
      "(8, 2, 5)\n",
      "(4, 7, 6)\n",
      "\n",
      "(1, 2, 3)\n",
      "(8, 0, 5)\n",
      "(4, 7, 6)\n",
      "\n",
      "(1, 2, 3)\n",
      "(0, 8, 5)\n",
      "(4, 7, 6)\n",
      "\n",
      "(1, 2, 3)\n",
      "(4, 8, 5)\n",
      "(0, 7, 6)\n",
      "\n",
      "(1, 2, 3)\n",
      "(4, 8, 5)\n",
      "(7, 0, 6)\n",
      "\n",
      "(1, 2, 3)\n",
      "(4, 0, 5)\n",
      "(7, 8, 6)\n",
      "\n",
      "(1, 2, 3)\n",
      "(4, 5, 0)\n",
      "(7, 8, 6)\n",
      "\n",
      "(1, 2, 3)\n",
      "(4, 5, 6)\n",
      "(7, 8, 0)\n",
      "\n"
     ]
    }
   ],
   "source": [
    "solution = a_star(start_state)\n",
    "if solution:\n",
    "    print(\"Solution found!\")\n",
    "    for step in solution:\n",
    "        display_state(step)\n",
    "        print()  \n",
    "else:\n",
    "    print(\"No solution found.\")"
   ]
  }
 ],
 "metadata": {
  "kernelspec": {
   "display_name": "Python 3",
   "language": "python",
   "name": "python3"
  },
  "language_info": {
   "codemirror_mode": {
    "name": "ipython",
    "version": 3
   },
   "file_extension": ".py",
   "mimetype": "text/x-python",
   "name": "python",
   "nbconvert_exporter": "python",
   "pygments_lexer": "ipython3",
   "version": "3.12.3"
  }
 },
 "nbformat": 4,
 "nbformat_minor": 2
}

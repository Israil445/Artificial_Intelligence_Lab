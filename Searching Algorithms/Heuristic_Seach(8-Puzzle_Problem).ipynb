{
 "cells": [
  {
   "cell_type": "markdown",
   "metadata": {
    "id": "h_amqB_q3qeI"
   },
   "source": [
    "#### Import Necessary Modules"
   ]
  },
  {
   "cell_type": "code",
   "execution_count": 4,
   "metadata": {
    "executionInfo": {
     "elapsed": 12,
     "status": "ok",
     "timestamp": 1739275109870,
     "user": {
      "displayName": "Md Israil Hosen",
      "userId": "06162664537335759867"
     },
     "user_tz": -360
    },
    "id": "EuNb3LMH29u0"
   },
   "outputs": [],
   "source": [
    "from heapq import heappush, heappop\n",
    "import numpy as np"
   ]
  },
  {
   "cell_type": "markdown",
   "metadata": {
    "id": "cwd0_D4g5ScW"
   },
   "source": [
    "#### Define Start State and Goal State"
   ]
  },
  {
   "cell_type": "code",
   "execution_count": 6,
   "metadata": {
    "executionInfo": {
     "elapsed": 9,
     "status": "ok",
     "timestamp": 1739275743121,
     "user": {
      "displayName": "Md Israil Hosen",
      "userId": "06162664537335759867"
     },
     "user_tz": -360
    },
    "id": "yajFNc-e4ATi"
   },
   "outputs": [],
   "source": [
    "# Start state of the 8-puzzle\n",
    "START_STATE = [\n",
    "        [2, 8, 3],\n",
    "        [1, 6, 4],\n",
    "        [7, 0, 5]\n",
    "    ]\n",
    "\n",
    "# Goal state of the 8-puzzle\n",
    "GOAL_STATE = [\n",
    "    [1, 2, 3],\n",
    "    [8, 0, 4],\n",
    "    [7, 6, 5]\n",
    "]\n",
    "\n",
    "# Directions for moving the blank tile (up, down, left, right)\n",
    "MOVES = [(0, -1), (0, 1), (-1, 0), (1, 0)]\n"
   ]
  },
  {
   "cell_type": "markdown",
   "metadata": {
    "id": "HNn0NHaK63dH"
   },
   "source": [
    "#### Heuristic Function using Manhattan Distance"
   ]
  },
  {
   "cell_type": "code",
   "execution_count": 15,
   "metadata": {
    "executionInfo": {
     "elapsed": 4,
     "status": "ok",
     "timestamp": 1739276912638,
     "user": {
      "displayName": "Md Israil Hosen",
      "userId": "06162664537335759867"
     },
     "user_tz": -360
    },
    "id": "zbKS-_EM6a6A"
   },
   "outputs": [],
   "source": [
    "#helper function to calculate heuristic value\n",
    "def heuristic(state):\n",
    "    distance = 0\n",
    "    for i in range(3):\n",
    "        for j in range(3):\n",
    "            if state[i][j] != 0 and abs(state[i][j] - GOAL_STATE[i][j]) != 0:\n",
    "                distance += 1\n",
    "    return distance"
   ]
  },
  {
   "cell_type": "markdown",
   "metadata": {
    "id": "rKg-PxsN8BOZ"
   },
   "source": [
    "#### Function for Finding Empty Cell"
   ]
  },
  {
   "cell_type": "code",
   "execution_count": 8,
   "metadata": {
    "executionInfo": {
     "elapsed": 37,
     "status": "ok",
     "timestamp": 1739276197018,
     "user": {
      "displayName": "Md Israil Hosen",
      "userId": "06162664537335759867"
     },
     "user_tz": -360
    },
    "id": "WWMjZ2Bi7OI5"
   },
   "outputs": [],
   "source": [
    "# Find the position of the blank tile (0)\n",
    "def find_blank(state):\n",
    "    for i in range(3):\n",
    "        for j in range(3):\n",
    "            if state[i][j] == 0:\n",
    "                return (i, j)\n",
    "    return None"
   ]
  },
  {
   "cell_type": "markdown",
   "metadata": {
    "id": "c2ftqUkT8RtO"
   },
   "source": [
    "#### Function for Moving Tiles"
   ]
  },
  {
   "cell_type": "code",
   "execution_count": null,
   "metadata": {
    "executionInfo": {
     "elapsed": 7,
     "status": "ok",
     "timestamp": 1739276341385,
     "user": {
      "displayName": "Md Israil Hosen",
      "userId": "06162664537335759867"
     },
     "user_tz": -360
    },
    "id": "dHlU6d5B8MIH"
   },
   "outputs": [],
   "source": [
    "# Generate possible moves from the current state\n",
    "def generate_moves(state):\n",
    "    blank_row, blank_col = find_blank(state)\n",
    "    moves = []\n",
    "    for dr, dc in MOVES:\n",
    "        new_row, new_col = blank_row + dr, blank_col + dc\n",
    "        if 0 <= new_row < 3 and 0 <= new_col < 3:\n",
    "            new_state = [row[:] for row in state] #copy of state\n",
    "            new_state[blank_row][blank_col], new_state[new_row][new_col] = new_state[new_row][new_col], new_state[blank_row][blank_col]\n",
    "            moves.append(new_state)\n",
    "    return moves"
   ]
  },
  {
   "cell_type": "markdown",
   "metadata": {
    "id": "UzYNTvl_9GDd"
   },
   "source": [
    "#### Checking Condition for Goal State"
   ]
  },
  {
   "cell_type": "code",
   "execution_count": 11,
   "metadata": {
    "executionInfo": {
     "elapsed": 41,
     "status": "ok",
     "timestamp": 1739276487890,
     "user": {
      "displayName": "Md Israil Hosen",
      "userId": "06162664537335759867"
     },
     "user_tz": -360
    },
    "id": "NMzrJdRW9BLO"
   },
   "outputs": [],
   "source": [
    "# Check if the current state is the goal state\n",
    "def is_goal(state):\n",
    "    return state == GOAL_STATE"
   ]
  },
  {
   "cell_type": "markdown",
   "metadata": {
    "id": "7A8q_ftP9Rq-"
   },
   "source": [
    "#### Solving 8-Puzzle Problem Using A* Search Algorithm"
   ]
  },
  {
   "cell_type": "code",
   "execution_count": 12,
   "metadata": {
    "executionInfo": {
     "elapsed": 43,
     "status": "ok",
     "timestamp": 1739276575930,
     "user": {
      "displayName": "Md Israil Hosen",
      "userId": "06162664537335759867"
     },
     "user_tz": -360
    },
    "id": "S3nxoFVn8uDI"
   },
   "outputs": [],
   "source": [
    "# A* search algorithm\n",
    "def a_star_search(start_state):\n",
    "    for row in start_state:\n",
    "      print(row)\n",
    "    print()\n",
    "    open_list = []\n",
    "    heappush(open_list, (heuristic(start_state), 0, start_state, []))  # (f(n), g(n), state, path)\n",
    "    visited = set()\n",
    "\n",
    "    while open_list:\n",
    "        _, g, current_state, path = heappop(open_list)\n",
    "        if is_goal(current_state):\n",
    "            return path + [current_state]  # Return the solution path\n",
    "\n",
    "        if tuple(map(tuple, current_state)) in visited:\n",
    "            continue\n",
    "        visited.add(tuple(map(tuple, current_state)))\n",
    "\n",
    "        print('------------------------------------------')\n",
    "\n",
    "        idx = 0\n",
    "        heuristic_values = []\n",
    "        for move in generate_moves(current_state):\n",
    "            if tuple(map(tuple, move)) not in visited:\n",
    "              idx = idx + 1\n",
    "              print(idx, \":\")\n",
    "              for row in move:\n",
    "                print(row)\n",
    "              print()\n",
    "              print(f\"f(n) = {heuristic(move) + g + 1}\")\n",
    "              heuristic_values.append(heuristic(move) + g + 1)\n",
    "              print()\n",
    "              heappush(open_list, (g + 1 + heuristic(move), g + 1, move, path + [current_state]))\n",
    "\n",
    "        print(\"Expanding Matrix: \",np.argmin(heuristic_values))\n",
    "        print()\n",
    "\n",
    "\n",
    "    return None"
   ]
  },
  {
   "cell_type": "markdown",
   "metadata": {
    "id": "3SV2vkVp9wI6"
   },
   "source": [
    "#### Main Function to Solve the Puzzle"
   ]
  },
  {
   "cell_type": "code",
   "execution_count": 16,
   "metadata": {
    "colab": {
     "base_uri": "https://localhost:8080/"
    },
    "executionInfo": {
     "elapsed": 52,
     "status": "ok",
     "timestamp": 1739276996220,
     "user": {
      "displayName": "Md Israil Hosen",
      "userId": "06162664537335759867"
     },
     "user_tz": -360
    },
    "id": "LFIw6iLt9nCk",
    "outputId": "60f80a1a-19f7-420f-9075-6acc25aefc66"
   },
   "outputs": [
    {
     "name": "stdout",
     "output_type": "stream",
     "text": [
      "[2, 8, 3]\n",
      "[1, 6, 4]\n",
      "[7, 0, 5]\n",
      "\n",
      "------------------------------------------\n",
      "1 :\n",
      "[2, 8, 3]\n",
      "[1, 6, 4]\n",
      "[0, 7, 5]\n",
      "\n",
      "f(n) = 6\n",
      "\n",
      "2 :\n",
      "[2, 8, 3]\n",
      "[1, 6, 4]\n",
      "[7, 5, 0]\n",
      "\n",
      "f(n) = 6\n",
      "\n",
      "3 :\n",
      "[2, 8, 3]\n",
      "[1, 0, 4]\n",
      "[7, 6, 5]\n",
      "\n",
      "f(n) = 4\n",
      "\n",
      "Expanding Matrix:  2\n",
      "\n",
      "------------------------------------------\n",
      "1 :\n",
      "[2, 8, 3]\n",
      "[0, 1, 4]\n",
      "[7, 6, 5]\n",
      "\n",
      "f(n) = 5\n",
      "\n",
      "2 :\n",
      "[2, 8, 3]\n",
      "[1, 4, 0]\n",
      "[7, 6, 5]\n",
      "\n",
      "f(n) = 6\n",
      "\n",
      "3 :\n",
      "[2, 0, 3]\n",
      "[1, 8, 4]\n",
      "[7, 6, 5]\n",
      "\n",
      "f(n) = 5\n",
      "\n",
      "Expanding Matrix:  0\n",
      "\n",
      "------------------------------------------\n",
      "1 :\n",
      "[0, 2, 3]\n",
      "[1, 8, 4]\n",
      "[7, 6, 5]\n",
      "\n",
      "f(n) = 5\n",
      "\n",
      "2 :\n",
      "[2, 3, 0]\n",
      "[1, 8, 4]\n",
      "[7, 6, 5]\n",
      "\n",
      "f(n) = 7\n",
      "\n",
      "Expanding Matrix:  0\n",
      "\n",
      "------------------------------------------\n",
      "1 :\n",
      "[0, 8, 3]\n",
      "[2, 1, 4]\n",
      "[7, 6, 5]\n",
      "\n",
      "f(n) = 6\n",
      "\n",
      "2 :\n",
      "[2, 8, 3]\n",
      "[7, 1, 4]\n",
      "[0, 6, 5]\n",
      "\n",
      "f(n) = 7\n",
      "\n",
      "Expanding Matrix:  0\n",
      "\n",
      "------------------------------------------\n",
      "1 :\n",
      "[1, 2, 3]\n",
      "[0, 8, 4]\n",
      "[7, 6, 5]\n",
      "\n",
      "f(n) = 5\n",
      "\n",
      "Expanding Matrix:  0\n",
      "\n",
      "------------------------------------------\n",
      "1 :\n",
      "[1, 2, 3]\n",
      "[8, 0, 4]\n",
      "[7, 6, 5]\n",
      "\n",
      "f(n) = 5\n",
      "\n",
      "2 :\n",
      "[1, 2, 3]\n",
      "[7, 8, 4]\n",
      "[0, 6, 5]\n",
      "\n",
      "f(n) = 7\n",
      "\n",
      "Expanding Matrix:  0\n",
      "\n",
      "Solution found! Steps:\n",
      "[2, 8, 3]\n",
      "[1, 6, 4]\n",
      "[7, 0, 5]\n",
      "\n",
      "[2, 8, 3]\n",
      "[1, 0, 4]\n",
      "[7, 6, 5]\n",
      "\n",
      "[2, 0, 3]\n",
      "[1, 8, 4]\n",
      "[7, 6, 5]\n",
      "\n",
      "[0, 2, 3]\n",
      "[1, 8, 4]\n",
      "[7, 6, 5]\n",
      "\n",
      "[1, 2, 3]\n",
      "[0, 8, 4]\n",
      "[7, 6, 5]\n",
      "\n",
      "[1, 2, 3]\n",
      "[8, 0, 4]\n",
      "[7, 6, 5]\n",
      "\n"
     ]
    }
   ],
   "source": [
    "solution = a_star_search(START_STATE)\n",
    "\n",
    "if solution:\n",
    "  print(\"Solution found! Steps:\")\n",
    "  for step in solution:\n",
    "    for row in step:\n",
    "      print(row)\n",
    "    print()\n",
    "\n",
    "else:\n",
    "  print(\"No solution found.\")"
   ]
  }
 ],
 "metadata": {
  "colab": {
   "authorship_tag": "ABX9TyP/2v7a6yZYLOXXCmR2XzYq",
   "provenance": []
  },
  "kernelspec": {
   "display_name": "Python 3",
   "name": "python3"
  },
  "language_info": {
   "name": "python"
  }
 },
 "nbformat": 4,
 "nbformat_minor": 0
}

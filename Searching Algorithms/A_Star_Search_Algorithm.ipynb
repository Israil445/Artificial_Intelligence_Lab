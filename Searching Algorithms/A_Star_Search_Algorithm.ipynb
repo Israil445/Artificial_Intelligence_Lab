{
 "cells": [
  {
   "cell_type": "markdown",
   "metadata": {
    "id": "BM7po9wHAXdh"
   },
   "source": [
    "#### Import Necessary Modules"
   ]
  },
  {
   "cell_type": "code",
   "execution_count": 18,
   "metadata": {
    "executionInfo": {
     "elapsed": 17,
     "status": "ok",
     "timestamp": 1739277363581,
     "user": {
      "displayName": "Md Israil Hosen",
      "userId": "06162664537335759867"
     },
     "user_tz": -360
    },
    "id": "QCTM-elDAOB7"
   },
   "outputs": [],
   "source": [
    "import heapq"
   ]
  },
  {
   "cell_type": "markdown",
   "metadata": {
    "id": "wOOi8B8TBF3U"
   },
   "source": [
    "#### Define Graph and Heuristic Values"
   ]
  },
  {
   "cell_type": "code",
   "execution_count": 19,
   "metadata": {
    "executionInfo": {
     "elapsed": 51,
     "status": "ok",
     "timestamp": 1739278862770,
     "user": {
      "displayName": "Md Israil Hosen",
      "userId": "06162664537335759867"
     },
     "user_tz": -360
    },
    "id": "w1D7Nzp5A51g"
   },
   "outputs": [],
   "source": [
    "# Define a graph as an adjacency list\n",
    "graph = {\n",
    "  'S': [('A', 1), ('G', 10)],\n",
    "  'A': [('B', 2), ('C', 1)],\n",
    "  'B': [('D', 5)],\n",
    "  'C': [('D', 3), ('G', 4)],\n",
    "  'D': [('G', 2)],\n",
    "  'G': []\n",
    "}\n",
    "\n",
    "# Define heuristic values for each node\n",
    "heuristic = {\n",
    "  'S': 5,\n",
    "  'A': 3,\n",
    "  'B': 4,\n",
    "  'C': 2,\n",
    "  'D': 6,\n",
    "  'G': 0\n",
    "}"
   ]
  },
  {
   "cell_type": "markdown",
   "metadata": {
    "id": "hsKmzbFqAoDd"
   },
   "source": [
    "#### Function for A_Star_Search Algorithm"
   ]
  },
  {
   "cell_type": "code",
   "execution_count": 20,
   "metadata": {},
   "outputs": [],
   "source": [
    "def a_star_search(graph, start, goal, heuristic):\n",
    "    open_list = []\n",
    "    heapq.heappush(open_list, (0, start))\n",
    "\n",
    "    close_list = []\n",
    "\n",
    "    while open_list:\n",
    "        current_f, current_node = heapq.heappop(open_list)\n",
    "        close_list.append(current_node)\n",
    "\n",
    "        if current_node == goal:\n",
    "            break\n",
    "\n",
    "        for neighbor, g_n in graph[current_node]:\n",
    "            if neighbor not in close_list:\n",
    "                f_n = g_n + heuristic[neighbor]\n",
    "                heapq.heappush(open_list, (f_n, neighbor))\n",
    "\n",
    "    if goal in close_list:\n",
    "      return close_list\n",
    "    else:\n",
    "      return None"
   ]
  },
  {
   "cell_type": "markdown",
   "metadata": {
    "id": "UpzGgkDdB-aq"
   },
   "source": [
    "#### Main Function for A* Search Algorithm"
   ]
  },
  {
   "cell_type": "code",
   "execution_count": 21,
   "metadata": {
    "colab": {
     "base_uri": "https://localhost:8080/"
    },
    "executionInfo": {
     "elapsed": 26,
     "status": "ok",
     "timestamp": 1739277715690,
     "user": {
      "displayName": "Md Israil Hosen",
      "userId": "06162664537335759867"
     },
     "user_tz": -360
    },
    "id": "r-wYCaghA4Jn",
    "outputId": "5ab4e355-7df2-42c0-dfae-0435ecfcfd11"
   },
   "outputs": [
    {
     "name": "stdout",
     "output_type": "stream",
     "text": [
      "A* Search Path: ['S', 'A', 'C', 'G']\n"
     ]
    }
   ],
   "source": [
    "start_node = 'S'\n",
    "goal_node = 'G'\n",
    "\n",
    "path = a_star_search(graph, start_node, goal_node, heuristic)\n",
    "print(\"A* Search Path:\", path)"
   ]
  }
 ],
 "metadata": {
  "colab": {
   "authorship_tag": "ABX9TyNLp4yHhTOTqbes3bF/zlpG",
   "provenance": []
  },
  "kernelspec": {
   "display_name": "Python 3",
   "name": "python3"
  },
  "language_info": {
   "codemirror_mode": {
    "name": "ipython",
    "version": 3
   },
   "file_extension": ".py",
   "mimetype": "text/x-python",
   "name": "python",
   "nbconvert_exporter": "python",
   "pygments_lexer": "ipython3",
   "version": "3.12.2"
  }
 },
 "nbformat": 4,
 "nbformat_minor": 0
}
